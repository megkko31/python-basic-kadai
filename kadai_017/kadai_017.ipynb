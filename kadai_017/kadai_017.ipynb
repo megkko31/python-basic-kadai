{
  "nbformat": 4,
  "nbformat_minor": 0,
  "metadata": {
    "colab": {
      "provenance": []
    },
    "kernelspec": {
      "name": "python3",
      "display_name": "Python 3"
    },
    "language_info": {
      "name": "python"
    }
  },
  "cells": [
    {
      "cell_type": "code",
      "source": [
        "class Human:\n",
        "    def __init__(self, name, age):\n",
        "        self.name = name\n",
        "        self.age = age\n",
        "\n",
        "    def check_adult(self):\n",
        "        if self.age >= 20:\n",
        "            print(f\"{self.name}さんは大人です。\")\n",
        "        else:\n",
        "            print(f\"{self.name}さんは大人ではありません。\")\n",
        "\n",
        "# インスタンスを複数作成してリストに追加\n",
        "humans = [\n",
        "    Human(\"鉄子\", 25),\n",
        "    Human(\"華\", 18),\n",
        "    Human(\"賢太\", 30),\n",
        "    Human(\"未美\", 15)\n",
        "]\n",
        "\n",
        "# リストの要素数分だけcheck_adultメソッドを呼び出す\n",
        "for human in humans:\n",
        "    human.check_adult()"
      ],
      "metadata": {
        "id": "QzWdKLRKCsUP",
        "outputId": "8d86258c-b9c5-4a31-e4f6-005f42f7ca81",
        "colab": {
          "base_uri": "https://localhost:8080/"
        }
      },
      "execution_count": 5,
      "outputs": [
        {
          "output_type": "stream",
          "name": "stdout",
          "text": [
            "鉄子さんは大人です。\n",
            "華さんは大人ではありません。\n",
            "賢太さんは大人です。\n",
            "未美さんは大人ではありません。\n"
          ]
        }
      ]
    }
  ]
}