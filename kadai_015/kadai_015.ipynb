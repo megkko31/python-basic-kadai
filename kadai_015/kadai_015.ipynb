{
  "nbformat": 4,
  "nbformat_minor": 0,
  "metadata": {
    "colab": {
      "provenance": []
    },
    "kernelspec": {
      "name": "python3",
      "display_name": "Python 3"
    },
    "language_info": {
      "name": "python"
    }
  },
  "cells": [
    {
      "cell_type": "code",
      "source": [
        "# Humanクラスの定義\n",
        "class Human:\n",
        "    def __init__(self, name, age):\n",
        "        self.name = name\n",
        "        self.age = age\n",
        "\n",
        "    def printinfo(self):\n",
        "        print(f\"名前: {self.name}, 年齢: {self.age}歳\")\n",
        "\n",
        "human = Human(\"自動華子\",\"20\")\n",
        "human.printinfo()\n",
        "\n",
        "human = Human(\"自動車トトロ\",\"39\")\n",
        "human.printinfo()\n",
        "\n",
        "human = Human(\"自動賢太\",\"10\")\n",
        "human.printinfo()"
      ],
      "metadata": {
        "colab": {
          "base_uri": "https://localhost:8080/"
        },
        "id": "IdCc8WM_GGVY",
        "outputId": "7bd693f6-8d9d-42fb-8791-c64ed409c572"
      },
      "execution_count": 7,
      "outputs": [
        {
          "output_type": "stream",
          "name": "stdout",
          "text": [
            "名前: 自動華子, 年齢: 20歳\n",
            "名前: 自動車トトロ, 年齢: 39歳\n",
            "名前: 自動賢太, 年齢: 10歳\n"
          ]
        }
      ]
    },
    {
      "cell_type": "code",
      "source": [],
      "metadata": {
        "id": "BjYTbtfNGHMa"
      },
      "execution_count": null,
      "outputs": []
    }
  ]
}