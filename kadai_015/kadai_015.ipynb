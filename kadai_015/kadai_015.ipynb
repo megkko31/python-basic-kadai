{
  "nbformat": 4,
  "nbformat_minor": 0,
  "metadata": {
    "colab": {
      "provenance": []
    },
    "kernelspec": {
      "name": "python3",
      "display_name": "Python 3"
    },
    "language_info": {
      "name": "python"
    }
  },
  "cells": [
    {
      "cell_type": "code",
      "source": [
        "# Humanクラスの定義\n",
        "class Human:\n",
        "    def __init__(self, name, age):\n",
        "        self.name = name\n",
        "        self.age = age\n",
        "\n",
        "    def check_adult(self):\n",
        "        if self.age >= 20:\n",
        "            print(f\"{self.name}さんは大人です。\")\n",
        "        else:\n",
        "            print(f\"{self.name}さんは大人ではありません。\")\n",
        "\n",
        "# ユーザーから名前と年齢を取得する関数\n",
        "def input_human_info():\n",
        "    name = input(\"名前を入力してください: \")\n",
        "    while True:\n",
        "        try:\n",
        "            age = int(input(\"年齢を入力してください: \"))\n",
        "            break\n",
        "        except ValueError:\n",
        "            print(\"年齢は整数で入力してください。\")\n",
        "    return {\"name\": name, \"age\": age}  # ディクショナリで返す\n",
        "\n",
        "# メイン処理関数\n",
        "def main():\n",
        "    humans = []  # リスト（Humanインスタンスを格納）\n",
        "    num = int(input(\"登録する人数を入力してください: \"))\n",
        "\n",
        "    for _ in range(num):  # 繰り返し処理\n",
        "        info = input_human_info()  # 関数呼び出しでディクショナリ取得\n",
        "        human = Human(info[\"name\"], info[\"age\"])  # クラスインスタンス化\n",
        "        humans.append(human)\n",
        "\n",
        "    print(\"\\n【判定結果】\")\n",
        "    for human in humans:  # リストをループ\n",
        "        human.check_adult()  # 条件分岐を含むメソッド呼び出し\n",
        "\n",
        "# グローバルスコープからmain関数を呼び出し\n",
        "if __name__ == \"__main__\":\n",
        "    main()\n"
      ],
      "metadata": {
        "colab": {
          "base_uri": "https://localhost:8080/"
        },
        "id": "8pOq5-Vi7coH",
        "outputId": "82663e3a-bbb2-4f01-ee76-86f4b36fb220"
      },
      "execution_count": 4,
      "outputs": [
        {
          "output_type": "stream",
          "name": "stdout",
          "text": [
            "登録する人数を入力してください: 3\n",
            "名前を入力してください: 自動華子、自動車トトロ、自動賢太\n",
            "年齢を入力してください: 20、39、10\n",
            "年齢は整数で入力してください。\n",
            "年齢を入力してください: 20、40、10\n",
            "年齢は整数で入力してください。\n",
            "年齢を入力してください:  20　40　10\n",
            "年齢は整数で入力してください。\n",
            "年齢を入力してください: 20,39,10\n",
            "年齢は整数で入力してください。\n",
            "年齢を入力してください: 20\n",
            "名前を入力してください: 自動華子\n",
            "年齢を入力してください: 39\n",
            "名前を入力してください: 自動車トトロ\n",
            "年齢を入力してください: 10\n",
            "\n",
            "【判定結果】\n",
            "自動華子、自動車トトロ、自動賢太さんは大人です。\n",
            "自動華子さんは大人です。\n",
            "自動車トトロさんは大人ではありません。\n"
          ]
        }
      ]
    }
  ]
}